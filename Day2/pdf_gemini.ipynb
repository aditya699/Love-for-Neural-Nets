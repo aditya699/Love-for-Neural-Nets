{
 "cells": [
  {
   "cell_type": "code",
   "execution_count": null,
   "metadata": {},
   "outputs": [],
   "source": [
    "pip install google-genai pydantic"
   ]
  },
  {
   "cell_type": "code",
   "execution_count": 21,
   "metadata": {},
   "outputs": [
    {
     "name": "stdout",
     "output_type": "stream",
     "text": [
      "Name: Aditya Bhatt\n",
      "Skills: ['Python', 'R', 'Pyspark', 'Syntactical JS', 'C', 'Power BI', 'Tableau', 'Matplotlib', 'Seaborn', 'Plotly', 'ggplot', 'Folium', 'Excel', 'Google Data Studio', 'ANN', 'CNN', 'RNN', 'LSTM', 'Time Series Analysis', 'PyCaret', 'Pytorch', 'TensorFlow', 'MLFlow', 'Azure ML Studio', 'Azure Language', 'Azure Vision', 'Text Preprocessing', 'Text Encoding & Embedding', 'Hugging Face', 'OpenAl', 'Langchain', 'RAG', 'Fine Tunning', 'Langsmith', 'LLMs', 'Azure OpenAl', 'Chainlit', 'NLP', 'Tranformers', 'Google Vertex Al', 'Al Agents', 'Langgraph', 'SPSS', 'Azure Sql', 'MySQL', 'T-SQL', 'Postgre SQL', 'SparkSQL', 'MongoDB', 'Cassandra', 'MQL', 'Flask', 'FastAPI', 'Streamlit', 'Heroku', 'Azure', 'AWS SageMaker', 'Docker', 'PyTest', 'SQLAlchemy', 'Azure DevOps', 'GitHub', 'Power Platform', 'TableauPrep', 'BeautifulSoup', 'SAP Crastal Report', 'Azure Data Factory', 'Azure DataBricks', 'Azure Synpase', 'Explainable AI', 'HTML', 'Recommedation System', 'Markov Decision Process']\n"
     ]
    }
   ],
   "source": [
    "from google import genai\n",
    "from pydantic import BaseModel\n",
    "import os\n",
    "from dotenv import load_dotenv\n",
    "load_dotenv()\n",
    "client = genai.Client(api_key=os.getenv(\"GEMINI_API_KEY\"))\n",
    "\n",
    "class CVData(BaseModel):\n",
    "    name: str = None\n",
    "    skills: list[str] = None\n",
    "    phone: str = None\n",
    "\n",
    "def extract_from_cv(pdf_path):\n",
    "    return client.models.generate_content(\n",
    "        model=\"gemini-2.0-flash\",\n",
    "        contents=[\"Extract name, email, phone and skills from this CV\", client.files.upload(file=pdf_path)],\n",
    "        config={'response_mime_type': 'application/json', 'response_schema': CVData}\n",
    "    ).parsed\n",
    "\n",
    "if __name__ == \"__main__\":\n",
    "    data = extract_from_cv(\"resume.pdf\")\n",
    "    print(f\"Name: {data.name}\\nSkills: {data.skills}\")\n"
   ]
  },
  {
   "cell_type": "code",
   "execution_count": null,
   "metadata": {},
   "outputs": [],
   "source": []
  },
  {
   "cell_type": "code",
   "execution_count": null,
   "metadata": {},
   "outputs": [],
   "source": []
  },
  {
   "cell_type": "code",
   "execution_count": null,
   "metadata": {},
   "outputs": [],
   "source": []
  },
  {
   "cell_type": "code",
   "execution_count": null,
   "metadata": {},
   "outputs": [],
   "source": []
  },
  {
   "cell_type": "code",
   "execution_count": null,
   "metadata": {},
   "outputs": [],
   "source": []
  }
 ],
 "metadata": {
  "kernelspec": {
   "display_name": "Python 3",
   "language": "python",
   "name": "python3"
  },
  "language_info": {
   "codemirror_mode": {
    "name": "ipython",
    "version": 3
   },
   "file_extension": ".py",
   "mimetype": "text/x-python",
   "name": "python",
   "nbconvert_exporter": "python",
   "pygments_lexer": "ipython3",
   "version": "3.9.5"
  }
 },
 "nbformat": 4,
 "nbformat_minor": 2
}
