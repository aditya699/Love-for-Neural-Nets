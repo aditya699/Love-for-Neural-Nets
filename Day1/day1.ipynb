{
 "cells": [
  {
   "cell_type": "code",
   "execution_count": null,
   "metadata": {},
   "outputs": [],
   "source": [
    "%pip install transformers torch\n"
   ]
  },
  {
   "cell_type": "code",
   "execution_count": 11,
   "metadata": {},
   "outputs": [],
   "source": [
    "import pandas as pd\n",
    "import numpy as np\n",
    "import torch\n",
    "from transformers import BertTokenizer, BertModel\n",
    "import tqdm\n"
   ]
  },
  {
   "cell_type": "markdown",
   "metadata": {},
   "source": [
    "# Day 1 : Simple Neural Network for predicting spam and ham classification\n",
    "# \n",
    "# # BERT (Bidirectional Encoder Representations from Transformers) is a groundbreaking model introduced by Google in 2018. \n",
    "# It revolutionized the field of natural language processing (NLP) by enabling models to understand the context of words \n",
    "# in a sentence more effectively than previous models. Unlike traditional models that read text sequentially, BERT \n",
    "# processes words in relation to all the other words in a sentence, allowing it to capture nuanced meanings and \n",
    "# relationships. This bidirectional approach, combined with its transformer architecture, has led to significant \n",
    "# improvements in various NLP tasks, including sentiment analysis, question answering, and text classification. \n",
    "# For more details, refer to the original paper: https://arxiv.org/pdf/1810.04805\n"
   ]
  },
  {
   "cell_type": "code",
   "execution_count": 9,
   "metadata": {},
   "outputs": [
    {
     "data": {
      "text/html": [
       "<div>\n",
       "<style scoped>\n",
       "    .dataframe tbody tr th:only-of-type {\n",
       "        vertical-align: middle;\n",
       "    }\n",
       "\n",
       "    .dataframe tbody tr th {\n",
       "        vertical-align: top;\n",
       "    }\n",
       "\n",
       "    .dataframe thead th {\n",
       "        text-align: right;\n",
       "    }\n",
       "</style>\n",
       "<table border=\"1\" class=\"dataframe\">\n",
       "  <thead>\n",
       "    <tr style=\"text-align: right;\">\n",
       "      <th></th>\n",
       "      <th>text</th>\n",
       "      <th>label</th>\n",
       "    </tr>\n",
       "  </thead>\n",
       "  <tbody>\n",
       "    <tr>\n",
       "      <th>0</th>\n",
       "      <td>Upgrade to our premium plan for exclusive acce...</td>\n",
       "      <td>0</td>\n",
       "    </tr>\n",
       "    <tr>\n",
       "      <th>1</th>\n",
       "      <td>Happy holidays from our team! Wishing you joy ...</td>\n",
       "      <td>0</td>\n",
       "    </tr>\n",
       "    <tr>\n",
       "      <th>2</th>\n",
       "      <td>We're hiring! Check out our career opportuniti...</td>\n",
       "      <td>0</td>\n",
       "    </tr>\n",
       "    <tr>\n",
       "      <th>3</th>\n",
       "      <td>Your Amazon account has been locked. Click her...</td>\n",
       "      <td>1</td>\n",
       "    </tr>\n",
       "    <tr>\n",
       "      <th>4</th>\n",
       "      <td>Your opinion matters! Take our survey and help...</td>\n",
       "      <td>0</td>\n",
       "    </tr>\n",
       "  </tbody>\n",
       "</table>\n",
       "</div>"
      ],
      "text/plain": [
       "                                                text  label\n",
       "0  Upgrade to our premium plan for exclusive acce...      0\n",
       "1  Happy holidays from our team! Wishing you joy ...      0\n",
       "2  We're hiring! Check out our career opportuniti...      0\n",
       "3  Your Amazon account has been locked. Click her...      1\n",
       "4  Your opinion matters! Take our survey and help...      0"
      ]
     },
     "execution_count": 9,
     "metadata": {},
     "output_type": "execute_result"
    }
   ],
   "source": [
    "data=pd.read_csv(\"email_classification.csv\")\n",
    "data['label']=data['label'].map({'spam':1,'ham':0})\n",
    "data.rename(columns={'email':'text'},inplace=True)\n",
    "data.head()\n"
   ]
  },
  {
   "cell_type": "code",
   "execution_count": 8,
   "metadata": {},
   "outputs": [
    {
     "name": "stdout",
     "output_type": "stream",
     "text": [
      "(179, 2)\n"
     ]
    }
   ],
   "source": [
    "print(data.shape)\n"
   ]
  },
  {
   "cell_type": "code",
   "execution_count": 15,
   "metadata": {},
   "outputs": [],
   "source": [
    "class Transformation:\n",
    "    def __init__(self):\n",
    "        self.tokenizer, self.model = self.load_tokenizer_model()\n",
    "\n",
    "    def load_tokenizer_model(self):\n",
    "        \"\"\"\n",
    "        Load BERT tokenizer and model.\n",
    "        \"\"\"\n",
    "        tokenizer = BertTokenizer.from_pretrained('bert-base-uncased')\n",
    "        model = BertModel.from_pretrained('bert-base-uncased')\n",
    "        return tokenizer, model\n",
    "\n",
    "    def tokenize_text(self, text):\n",
    "        \"\"\"\n",
    "        Tokenizes input text and converts it into PyTorch tensors.\n",
    "        \"\"\"\n",
    "        tokens = self.tokenizer(\n",
    "            text,\n",
    "            padding=True,\n",
    "            truncation=True,\n",
    "            return_tensors='pt'\n",
    "        )\n",
    "        return tokens\n",
    "\n",
    "    def get_embeddings(self, tokens):\n",
    "        \"\"\"\n",
    "        Extracts embeddings from BERT model.\n",
    "        \"\"\"\n",
    "        with torch.no_grad():  \n",
    "            outputs = self.model(**tokens)  \n",
    "        embeddings = outputs.last_hidden_state\n",
    "        return embeddings"
   ]
  },
  {
   "cell_type": "code",
   "execution_count": 5,
   "metadata": {},
   "outputs": [
    {
     "data": {
      "application/vnd.jupyter.widget-view+json": {
       "model_id": "8a9a0a14094649398fb276b477172ad6",
       "version_major": 2,
       "version_minor": 0
      },
      "text/plain": [
       "tokenizer_config.json:   0%|          | 0.00/48.0 [00:00<?, ?B/s]"
      ]
     },
     "metadata": {},
     "output_type": "display_data"
    },
    {
     "name": "stderr",
     "output_type": "stream",
     "text": [
      "c:\\Users\\aditya\\AppData\\Local\\Programs\\Python\\Python39\\lib\\site-packages\\huggingface_hub\\file_download.py:159: UserWarning: `huggingface_hub` cache-system uses symlinks by default to efficiently store duplicated files but your machine does not support them in C:\\Users\\aditya\\.cache\\huggingface\\hub\\models--bert-base-uncased. Caching files will still work but in a degraded version that might require more space on your disk. This warning can be disabled by setting the `HF_HUB_DISABLE_SYMLINKS_WARNING` environment variable. For more details, see https://huggingface.co/docs/huggingface_hub/how-to-cache#limitations.\n",
      "To support symlinks on Windows, you either need to activate Developer Mode or to run Python as an administrator. In order to see activate developer mode, see this article: https://docs.microsoft.com/en-us/windows/apps/get-started/enable-your-device-for-development\n",
      "  warnings.warn(message)\n"
     ]
    },
    {
     "data": {
      "application/vnd.jupyter.widget-view+json": {
       "model_id": "5bedd97d579a414eaa023205cd4b6286",
       "version_major": 2,
       "version_minor": 0
      },
      "text/plain": [
       "vocab.txt:   0%|          | 0.00/232k [00:00<?, ?B/s]"
      ]
     },
     "metadata": {},
     "output_type": "display_data"
    },
    {
     "data": {
      "application/vnd.jupyter.widget-view+json": {
       "model_id": "718bbd4e2ea44b379803c7e3a194fb20",
       "version_major": 2,
       "version_minor": 0
      },
      "text/plain": [
       "tokenizer.json:   0%|          | 0.00/466k [00:00<?, ?B/s]"
      ]
     },
     "metadata": {},
     "output_type": "display_data"
    },
    {
     "data": {
      "application/vnd.jupyter.widget-view+json": {
       "model_id": "7c9416e4f406408bb3d2b0b1223f04e2",
       "version_major": 2,
       "version_minor": 0
      },
      "text/plain": [
       "config.json:   0%|          | 0.00/570 [00:00<?, ?B/s]"
      ]
     },
     "metadata": {},
     "output_type": "display_data"
    },
    {
     "name": "stderr",
     "output_type": "stream",
     "text": [
      "c:\\Users\\aditya\\AppData\\Local\\Programs\\Python\\Python39\\lib\\site-packages\\transformers\\tokenization_utils_base.py:1601: FutureWarning: `clean_up_tokenization_spaces` was not set. It will be set to `True` by default. This behavior will be depracted in transformers v4.45, and will be then set to `False` by default. For more details check this issue: https://github.com/huggingface/transformers/issues/31884\n",
      "  warnings.warn(\n"
     ]
    },
    {
     "data": {
      "application/vnd.jupyter.widget-view+json": {
       "model_id": "c6fd5ab7cd074394985e64a20697b091",
       "version_major": 2,
       "version_minor": 0
      },
      "text/plain": [
       "model.safetensors:   0%|          | 0.00/440M [00:00<?, ?B/s]"
      ]
     },
     "metadata": {},
     "output_type": "display_data"
    },
    {
     "name": "stderr",
     "output_type": "stream",
     "text": [
      "A parameter name that contains `beta` will be renamed internally to `bias`. Please use a different name to suppress this warning.\n",
      "A parameter name that contains `gamma` will be renamed internally to `weight`. Please use a different name to suppress this warning.\n",
      "A parameter name that contains `beta` will be renamed internally to `bias`. Please use a different name to suppress this warning.\n",
      "A parameter name that contains `gamma` will be renamed internally to `weight`. Please use a different name to suppress this warning.\n",
      "A parameter name that contains `beta` will be renamed internally to `bias`. Please use a different name to suppress this warning.\n",
      "A parameter name that contains `gamma` will be renamed internally to `weight`. Please use a different name to suppress this warning.\n",
      "A parameter name that contains `beta` will be renamed internally to `bias`. Please use a different name to suppress this warning.\n",
      "A parameter name that contains `gamma` will be renamed internally to `weight`. Please use a different name to suppress this warning.\n",
      "A parameter name that contains `beta` will be renamed internally to `bias`. Please use a different name to suppress this warning.\n",
      "A parameter name that contains `gamma` will be renamed internally to `weight`. Please use a different name to suppress this warning.\n",
      "A parameter name that contains `beta` will be renamed internally to `bias`. Please use a different name to suppress this warning.\n",
      "A parameter name that contains `gamma` will be renamed internally to `weight`. Please use a different name to suppress this warning.\n",
      "A parameter name that contains `beta` will be renamed internally to `bias`. Please use a different name to suppress this warning.\n",
      "A parameter name that contains `gamma` will be renamed internally to `weight`. Please use a different name to suppress this warning.\n",
      "A parameter name that contains `beta` will be renamed internally to `bias`. Please use a different name to suppress this warning.\n",
      "A parameter name that contains `gamma` will be renamed internally to `weight`. Please use a different name to suppress this warning.\n",
      "A parameter name that contains `beta` will be renamed internally to `bias`. Please use a different name to suppress this warning.\n",
      "A parameter name that contains `gamma` will be renamed internally to `weight`. Please use a different name to suppress this warning.\n",
      "A parameter name that contains `beta` will be renamed internally to `bias`. Please use a different name to suppress this warning.\n",
      "A parameter name that contains `gamma` will be renamed internally to `weight`. Please use a different name to suppress this warning.\n",
      "A parameter name that contains `beta` will be renamed internally to `bias`. Please use a different name to suppress this warning.\n",
      "A parameter name that contains `gamma` will be renamed internally to `weight`. Please use a different name to suppress this warning.\n",
      "A parameter name that contains `beta` will be renamed internally to `bias`. Please use a different name to suppress this warning.\n",
      "A parameter name that contains `gamma` will be renamed internally to `weight`. Please use a different name to suppress this warning.\n",
      "A parameter name that contains `beta` will be renamed internally to `bias`. Please use a different name to suppress this warning.\n",
      "A parameter name that contains `gamma` will be renamed internally to `weight`. Please use a different name to suppress this warning.\n",
      "A parameter name that contains `beta` will be renamed internally to `bias`. Please use a different name to suppress this warning.\n",
      "A parameter name that contains `gamma` will be renamed internally to `weight`. Please use a different name to suppress this warning.\n",
      "A parameter name that contains `beta` will be renamed internally to `bias`. Please use a different name to suppress this warning.\n",
      "A parameter name that contains `gamma` will be renamed internally to `weight`. Please use a different name to suppress this warning.\n",
      "A parameter name that contains `beta` will be renamed internally to `bias`. Please use a different name to suppress this warning.\n",
      "A parameter name that contains `gamma` will be renamed internally to `weight`. Please use a different name to suppress this warning.\n",
      "A parameter name that contains `beta` will be renamed internally to `bias`. Please use a different name to suppress this warning.\n",
      "A parameter name that contains `gamma` will be renamed internally to `weight`. Please use a different name to suppress this warning.\n",
      "A parameter name that contains `beta` will be renamed internally to `bias`. Please use a different name to suppress this warning.\n",
      "A parameter name that contains `gamma` will be renamed internally to `weight`. Please use a different name to suppress this warning.\n",
      "A parameter name that contains `beta` will be renamed internally to `bias`. Please use a different name to suppress this warning.\n",
      "A parameter name that contains `gamma` will be renamed internally to `weight`. Please use a different name to suppress this warning.\n",
      "A parameter name that contains `beta` will be renamed internally to `bias`. Please use a different name to suppress this warning.\n",
      "A parameter name that contains `gamma` will be renamed internally to `weight`. Please use a different name to suppress this warning.\n",
      "A parameter name that contains `beta` will be renamed internally to `bias`. Please use a different name to suppress this warning.\n",
      "A parameter name that contains `gamma` will be renamed internally to `weight`. Please use a different name to suppress this warning.\n",
      "A parameter name that contains `beta` will be renamed internally to `bias`. Please use a different name to suppress this warning.\n",
      "A parameter name that contains `gamma` will be renamed internally to `weight`. Please use a different name to suppress this warning.\n",
      "A parameter name that contains `beta` will be renamed internally to `bias`. Please use a different name to suppress this warning.\n",
      "A parameter name that contains `gamma` will be renamed internally to `weight`. Please use a different name to suppress this warning.\n",
      "A parameter name that contains `beta` will be renamed internally to `bias`. Please use a different name to suppress this warning.\n",
      "A parameter name that contains `gamma` will be renamed internally to `weight`. Please use a different name to suppress this warning.\n",
      "A parameter name that contains `beta` will be renamed internally to `bias`. Please use a different name to suppress this warning.\n",
      "A parameter name that contains `gamma` will be renamed internally to `weight`. Please use a different name to suppress this warning.\n",
      "A parameter name that contains `beta` will be renamed internally to `bias`. Please use a different name to suppress this warning.\n",
      "A parameter name that contains `gamma` will be renamed internally to `weight`. Please use a different name to suppress this warning.\n"
     ]
    }
   ],
   "source": [
    "# Testing the code\n",
    "text = \"Congratulations! You have won a free iPhone.\"\n",
    "transformer = Transformation(data=None)\n",
    "\n",
    "tokens = transformer.tokenize_text(text)\n",
    "embeddings = transformer.get_embeddings(tokens)"
   ]
  },
  {
   "cell_type": "code",
   "execution_count": 6,
   "metadata": {},
   "outputs": [
    {
     "data": {
      "text/plain": [
       "{'input_ids': tensor([[  101, 23156,   999,  2017,  2031,  2180,  1037,  2489, 18059,  1012,\n",
       "           102]]), 'token_type_ids': tensor([[0, 0, 0, 0, 0, 0, 0, 0, 0, 0, 0]]), 'attention_mask': tensor([[1, 1, 1, 1, 1, 1, 1, 1, 1, 1, 1]])}"
      ]
     },
     "execution_count": 6,
     "metadata": {},
     "output_type": "execute_result"
    }
   ],
   "source": [
    "tokens"
   ]
  },
  {
   "cell_type": "code",
   "execution_count": 7,
   "metadata": {},
   "outputs": [
    {
     "data": {
      "text/plain": [
       "tensor([[[ 3.0962e-01, -3.4133e-04,  4.6005e-03,  ..., -3.2639e-01,\n",
       "           2.3386e-01,  4.2773e-01],\n",
       "         [ 5.4302e-01, -2.5816e-01,  2.7266e-01,  ..., -2.3062e-01,\n",
       "           1.0924e+00,  2.8424e-01],\n",
       "         [ 5.7392e-01, -1.2022e-01,  7.1131e-02,  ...,  2.9910e-01,\n",
       "           6.9459e-01,  7.7258e-02],\n",
       "         ...,\n",
       "         [ 7.4757e-01,  2.9356e-01,  5.2565e-01,  ..., -1.3592e-01,\n",
       "           3.0505e-01, -7.9207e-01],\n",
       "         [ 7.1357e-01,  7.4151e-03, -3.9734e-01,  ...,  3.7720e-01,\n",
       "          -3.2668e-01, -5.5241e-01],\n",
       "         [ 6.4319e-01,  9.1430e-02, -1.2740e-01,  ...,  3.9700e-01,\n",
       "          -4.5115e-01, -3.1485e-01]]])"
      ]
     },
     "execution_count": 7,
     "metadata": {},
     "output_type": "execute_result"
    }
   ],
   "source": [
    "embeddings"
   ]
  },
  {
   "cell_type": "code",
   "execution_count": 19,
   "metadata": {},
   "outputs": [
    {
     "name": "stderr",
     "output_type": "stream",
     "text": [
      "A parameter name that contains `beta` will be renamed internally to `bias`. Please use a different name to suppress this warning.\n",
      "A parameter name that contains `gamma` will be renamed internally to `weight`. Please use a different name to suppress this warning.\n",
      "A parameter name that contains `beta` will be renamed internally to `bias`. Please use a different name to suppress this warning.\n",
      "A parameter name that contains `gamma` will be renamed internally to `weight`. Please use a different name to suppress this warning.\n",
      "A parameter name that contains `beta` will be renamed internally to `bias`. Please use a different name to suppress this warning.\n",
      "A parameter name that contains `gamma` will be renamed internally to `weight`. Please use a different name to suppress this warning.\n",
      "A parameter name that contains `beta` will be renamed internally to `bias`. Please use a different name to suppress this warning.\n",
      "A parameter name that contains `gamma` will be renamed internally to `weight`. Please use a different name to suppress this warning.\n",
      "A parameter name that contains `beta` will be renamed internally to `bias`. Please use a different name to suppress this warning.\n",
      "A parameter name that contains `gamma` will be renamed internally to `weight`. Please use a different name to suppress this warning.\n",
      "A parameter name that contains `beta` will be renamed internally to `bias`. Please use a different name to suppress this warning.\n",
      "A parameter name that contains `gamma` will be renamed internally to `weight`. Please use a different name to suppress this warning.\n",
      "A parameter name that contains `beta` will be renamed internally to `bias`. Please use a different name to suppress this warning.\n",
      "A parameter name that contains `gamma` will be renamed internally to `weight`. Please use a different name to suppress this warning.\n",
      "A parameter name that contains `beta` will be renamed internally to `bias`. Please use a different name to suppress this warning.\n",
      "A parameter name that contains `gamma` will be renamed internally to `weight`. Please use a different name to suppress this warning.\n",
      "A parameter name that contains `beta` will be renamed internally to `bias`. Please use a different name to suppress this warning.\n",
      "A parameter name that contains `gamma` will be renamed internally to `weight`. Please use a different name to suppress this warning.\n",
      "A parameter name that contains `beta` will be renamed internally to `bias`. Please use a different name to suppress this warning.\n",
      "A parameter name that contains `gamma` will be renamed internally to `weight`. Please use a different name to suppress this warning.\n",
      "A parameter name that contains `beta` will be renamed internally to `bias`. Please use a different name to suppress this warning.\n",
      "A parameter name that contains `gamma` will be renamed internally to `weight`. Please use a different name to suppress this warning.\n",
      "A parameter name that contains `beta` will be renamed internally to `bias`. Please use a different name to suppress this warning.\n",
      "A parameter name that contains `gamma` will be renamed internally to `weight`. Please use a different name to suppress this warning.\n",
      "A parameter name that contains `beta` will be renamed internally to `bias`. Please use a different name to suppress this warning.\n",
      "A parameter name that contains `gamma` will be renamed internally to `weight`. Please use a different name to suppress this warning.\n",
      "A parameter name that contains `beta` will be renamed internally to `bias`. Please use a different name to suppress this warning.\n",
      "A parameter name that contains `gamma` will be renamed internally to `weight`. Please use a different name to suppress this warning.\n",
      "A parameter name that contains `beta` will be renamed internally to `bias`. Please use a different name to suppress this warning.\n",
      "A parameter name that contains `gamma` will be renamed internally to `weight`. Please use a different name to suppress this warning.\n",
      "A parameter name that contains `beta` will be renamed internally to `bias`. Please use a different name to suppress this warning.\n",
      "A parameter name that contains `gamma` will be renamed internally to `weight`. Please use a different name to suppress this warning.\n",
      "A parameter name that contains `beta` will be renamed internally to `bias`. Please use a different name to suppress this warning.\n",
      "A parameter name that contains `gamma` will be renamed internally to `weight`. Please use a different name to suppress this warning.\n",
      "A parameter name that contains `beta` will be renamed internally to `bias`. Please use a different name to suppress this warning.\n",
      "A parameter name that contains `gamma` will be renamed internally to `weight`. Please use a different name to suppress this warning.\n",
      "A parameter name that contains `beta` will be renamed internally to `bias`. Please use a different name to suppress this warning.\n",
      "A parameter name that contains `gamma` will be renamed internally to `weight`. Please use a different name to suppress this warning.\n",
      "A parameter name that contains `beta` will be renamed internally to `bias`. Please use a different name to suppress this warning.\n",
      "A parameter name that contains `gamma` will be renamed internally to `weight`. Please use a different name to suppress this warning.\n",
      "A parameter name that contains `beta` will be renamed internally to `bias`. Please use a different name to suppress this warning.\n",
      "A parameter name that contains `gamma` will be renamed internally to `weight`. Please use a different name to suppress this warning.\n",
      "A parameter name that contains `beta` will be renamed internally to `bias`. Please use a different name to suppress this warning.\n",
      "A parameter name that contains `gamma` will be renamed internally to `weight`. Please use a different name to suppress this warning.\n",
      "A parameter name that contains `beta` will be renamed internally to `bias`. Please use a different name to suppress this warning.\n",
      "A parameter name that contains `gamma` will be renamed internally to `weight`. Please use a different name to suppress this warning.\n",
      "A parameter name that contains `beta` will be renamed internally to `bias`. Please use a different name to suppress this warning.\n",
      "A parameter name that contains `gamma` will be renamed internally to `weight`. Please use a different name to suppress this warning.\n",
      "A parameter name that contains `beta` will be renamed internally to `bias`. Please use a different name to suppress this warning.\n",
      "A parameter name that contains `gamma` will be renamed internally to `weight`. Please use a different name to suppress this warning.\n",
      "A parameter name that contains `beta` will be renamed internally to `bias`. Please use a different name to suppress this warning.\n",
      "A parameter name that contains `gamma` will be renamed internally to `weight`. Please use a different name to suppress this warning.\n"
     ]
    },
    {
     "name": "stdout",
     "output_type": "stream",
     "text": [
      "✅ BERT embeddings stored successfully!\n"
     ]
    }
   ],
   "source": [
    "transformer = Transformation()  # Pass data parameter\n",
    "\n",
    "embeddings_list = []\n",
    "labels_list = []\n",
    "\n",
    "# Convert each email into embeddings and flatten the embeddings\n",
    "for text, label in zip(data['text'], data['label']):\n",
    "    tokens = transformer.tokenize_text(text)\n",
    "    embeddings = transformer.get_embeddings(tokens)\n",
    "    # Flatten the embeddings tensor and convert to numpy array\n",
    "    flattened_embeddings = embeddings.mean(dim=1).squeeze().numpy()\n",
    "    embeddings_list.append(flattened_embeddings)\n",
    "    labels_list.append(label)\n",
    "\n",
    "# Convert list to numpy array to ensure consistent shape\n",
    "embeddings_array = np.array(embeddings_list)\n",
    "\n",
    "# Create DataFrame with flattened embeddings\n",
    "embeddings_data = pd.DataFrame(embeddings_array)\n",
    "embeddings_data['label'] = labels_list\n",
    "\n",
    "# Save processed data\n",
    "embeddings_data.to_csv(\"bert_embeddings.csv\", index=False)\n",
    "\n",
    "print(\"✅ BERT embeddings stored successfully!\")"
   ]
  },
  {
   "cell_type": "code",
   "execution_count": 22,
   "metadata": {},
   "outputs": [
    {
     "data": {
      "text/html": [
       "<div>\n",
       "<style scoped>\n",
       "    .dataframe tbody tr th:only-of-type {\n",
       "        vertical-align: middle;\n",
       "    }\n",
       "\n",
       "    .dataframe tbody tr th {\n",
       "        vertical-align: top;\n",
       "    }\n",
       "\n",
       "    .dataframe thead th {\n",
       "        text-align: right;\n",
       "    }\n",
       "</style>\n",
       "<table border=\"1\" class=\"dataframe\">\n",
       "  <thead>\n",
       "    <tr style=\"text-align: right;\">\n",
       "      <th></th>\n",
       "      <th>0</th>\n",
       "      <th>1</th>\n",
       "      <th>2</th>\n",
       "      <th>3</th>\n",
       "      <th>4</th>\n",
       "      <th>5</th>\n",
       "      <th>6</th>\n",
       "      <th>7</th>\n",
       "      <th>8</th>\n",
       "      <th>9</th>\n",
       "      <th>...</th>\n",
       "      <th>759</th>\n",
       "      <th>760</th>\n",
       "      <th>761</th>\n",
       "      <th>762</th>\n",
       "      <th>763</th>\n",
       "      <th>764</th>\n",
       "      <th>765</th>\n",
       "      <th>766</th>\n",
       "      <th>767</th>\n",
       "      <th>label</th>\n",
       "    </tr>\n",
       "  </thead>\n",
       "  <tbody>\n",
       "    <tr>\n",
       "      <th>0</th>\n",
       "      <td>0.314854</td>\n",
       "      <td>-0.315803</td>\n",
       "      <td>0.482772</td>\n",
       "      <td>0.406596</td>\n",
       "      <td>0.651483</td>\n",
       "      <td>-0.514341</td>\n",
       "      <td>0.287409</td>\n",
       "      <td>0.361406</td>\n",
       "      <td>0.113588</td>\n",
       "      <td>-0.435126</td>\n",
       "      <td>...</td>\n",
       "      <td>-0.024764</td>\n",
       "      <td>-0.214943</td>\n",
       "      <td>-0.171342</td>\n",
       "      <td>0.197776</td>\n",
       "      <td>-0.088101</td>\n",
       "      <td>0.018636</td>\n",
       "      <td>0.041526</td>\n",
       "      <td>-0.015001</td>\n",
       "      <td>-0.348425</td>\n",
       "      <td>0</td>\n",
       "    </tr>\n",
       "    <tr>\n",
       "      <th>1</th>\n",
       "      <td>0.151626</td>\n",
       "      <td>-0.027887</td>\n",
       "      <td>0.407615</td>\n",
       "      <td>0.026858</td>\n",
       "      <td>0.002005</td>\n",
       "      <td>-0.376765</td>\n",
       "      <td>0.378584</td>\n",
       "      <td>0.799385</td>\n",
       "      <td>-0.485622</td>\n",
       "      <td>-0.581311</td>\n",
       "      <td>...</td>\n",
       "      <td>0.189612</td>\n",
       "      <td>-0.078242</td>\n",
       "      <td>-0.092983</td>\n",
       "      <td>0.178424</td>\n",
       "      <td>-0.132592</td>\n",
       "      <td>-0.271396</td>\n",
       "      <td>-0.030238</td>\n",
       "      <td>0.402832</td>\n",
       "      <td>-0.168941</td>\n",
       "      <td>0</td>\n",
       "    </tr>\n",
       "    <tr>\n",
       "      <th>2</th>\n",
       "      <td>0.530745</td>\n",
       "      <td>0.066995</td>\n",
       "      <td>0.319736</td>\n",
       "      <td>0.006169</td>\n",
       "      <td>0.396067</td>\n",
       "      <td>-0.457637</td>\n",
       "      <td>0.494592</td>\n",
       "      <td>0.412954</td>\n",
       "      <td>-0.056115</td>\n",
       "      <td>-0.468745</td>\n",
       "      <td>...</td>\n",
       "      <td>0.007627</td>\n",
       "      <td>-0.090966</td>\n",
       "      <td>-0.280942</td>\n",
       "      <td>-0.050126</td>\n",
       "      <td>-0.263792</td>\n",
       "      <td>-0.210276</td>\n",
       "      <td>-0.273926</td>\n",
       "      <td>0.368495</td>\n",
       "      <td>-0.379933</td>\n",
       "      <td>0</td>\n",
       "    </tr>\n",
       "    <tr>\n",
       "      <th>3</th>\n",
       "      <td>0.469785</td>\n",
       "      <td>-0.187990</td>\n",
       "      <td>-0.036101</td>\n",
       "      <td>-0.062842</td>\n",
       "      <td>0.632343</td>\n",
       "      <td>-0.298325</td>\n",
       "      <td>0.766535</td>\n",
       "      <td>0.998686</td>\n",
       "      <td>-0.244634</td>\n",
       "      <td>0.203218</td>\n",
       "      <td>...</td>\n",
       "      <td>-0.067121</td>\n",
       "      <td>-0.180987</td>\n",
       "      <td>-0.703800</td>\n",
       "      <td>0.086969</td>\n",
       "      <td>-0.030878</td>\n",
       "      <td>-0.199462</td>\n",
       "      <td>-0.478008</td>\n",
       "      <td>-0.176455</td>\n",
       "      <td>0.067534</td>\n",
       "      <td>1</td>\n",
       "    </tr>\n",
       "    <tr>\n",
       "      <th>4</th>\n",
       "      <td>0.206392</td>\n",
       "      <td>0.141666</td>\n",
       "      <td>0.001321</td>\n",
       "      <td>0.033523</td>\n",
       "      <td>0.189142</td>\n",
       "      <td>-0.165017</td>\n",
       "      <td>0.106561</td>\n",
       "      <td>0.311256</td>\n",
       "      <td>0.091679</td>\n",
       "      <td>-0.673464</td>\n",
       "      <td>...</td>\n",
       "      <td>0.270695</td>\n",
       "      <td>-0.048474</td>\n",
       "      <td>-0.252568</td>\n",
       "      <td>-0.305456</td>\n",
       "      <td>-0.062712</td>\n",
       "      <td>-0.016795</td>\n",
       "      <td>0.013259</td>\n",
       "      <td>0.275179</td>\n",
       "      <td>-0.087495</td>\n",
       "      <td>0</td>\n",
       "    </tr>\n",
       "  </tbody>\n",
       "</table>\n",
       "<p>5 rows × 769 columns</p>\n",
       "</div>"
      ],
      "text/plain": [
       "          0         1         2         3         4         5         6  \\\n",
       "0  0.314854 -0.315803  0.482772  0.406596  0.651483 -0.514341  0.287409   \n",
       "1  0.151626 -0.027887  0.407615  0.026858  0.002005 -0.376765  0.378584   \n",
       "2  0.530745  0.066995  0.319736  0.006169  0.396067 -0.457637  0.494592   \n",
       "3  0.469785 -0.187990 -0.036101 -0.062842  0.632343 -0.298325  0.766535   \n",
       "4  0.206392  0.141666  0.001321  0.033523  0.189142 -0.165017  0.106561   \n",
       "\n",
       "          7         8         9  ...       759       760       761       762  \\\n",
       "0  0.361406  0.113588 -0.435126  ... -0.024764 -0.214943 -0.171342  0.197776   \n",
       "1  0.799385 -0.485622 -0.581311  ...  0.189612 -0.078242 -0.092983  0.178424   \n",
       "2  0.412954 -0.056115 -0.468745  ...  0.007627 -0.090966 -0.280942 -0.050126   \n",
       "3  0.998686 -0.244634  0.203218  ... -0.067121 -0.180987 -0.703800  0.086969   \n",
       "4  0.311256  0.091679 -0.673464  ...  0.270695 -0.048474 -0.252568 -0.305456   \n",
       "\n",
       "        763       764       765       766       767  label  \n",
       "0 -0.088101  0.018636  0.041526 -0.015001 -0.348425      0  \n",
       "1 -0.132592 -0.271396 -0.030238  0.402832 -0.168941      0  \n",
       "2 -0.263792 -0.210276 -0.273926  0.368495 -0.379933      0  \n",
       "3 -0.030878 -0.199462 -0.478008 -0.176455  0.067534      1  \n",
       "4 -0.062712 -0.016795  0.013259  0.275179 -0.087495      0  \n",
       "\n",
       "[5 rows x 769 columns]"
      ]
     },
     "execution_count": 22,
     "metadata": {},
     "output_type": "execute_result"
    }
   ],
   "source": [
    "data_transformed = pd.read_csv(\"bert_embeddings.csv\")   \n",
    "data_transformed.head()\n"
   ]
  },
  {
   "cell_type": "markdown",
   "metadata": {},
   "source": [
    "# Day 1:\n",
    "# Conclusion : We have a dataset which can be used to train a neural network.\n",
    "\n",
    "# Important paper:https://arxiv.org/html/2502.02523v2(Note:This paper has nothin to do with above code)\n"
   ]
  },
  {
   "cell_type": "markdown",
   "metadata": {},
   "source": []
  }
 ],
 "metadata": {
  "kernelspec": {
   "display_name": "Python 3",
   "language": "python",
   "name": "python3"
  },
  "language_info": {
   "codemirror_mode": {
    "name": "ipython",
    "version": 3
   },
   "file_extension": ".py",
   "mimetype": "text/x-python",
   "name": "python",
   "nbconvert_exporter": "python",
   "pygments_lexer": "ipython3",
   "version": "3.9.5"
  }
 },
 "nbformat": 4,
 "nbformat_minor": 2
}
