{
 "cells": [
  {
   "cell_type": "markdown",
   "metadata": {},
   "source": [
    "# Tokenization \n",
    "\n",
    "# Tokenization is the process of breaking down text into smaller pieces called tokens. These tokens are the basic units that a model can understand and work with.\n",
    "\n"
   ]
  },
  {
   "cell_type": "markdown",
   "metadata": {},
   "source": [
    "0.Unicode is a universal standard for representing text in computers.\n",
    "\n",
    "1.Think of Unicode as a giant global dictionary that assigns a unique number (called a code point) to every character in every language, symbol set, emoji, etc.\n",
    "\n",
    "\n",
    "\n"
   ]
  },
  {
   "cell_type": "code",
   "execution_count": 2,
   "metadata": {},
   "outputs": [
    {
     "data": {
      "text/plain": [
       "83"
      ]
     },
     "execution_count": 2,
     "metadata": {},
     "output_type": "execute_result"
    }
   ],
   "source": [
    "ord(\"S\")"
   ]
  },
  {
   "cell_type": "code",
   "execution_count": 4,
   "metadata": {},
   "outputs": [
    {
     "data": {
      "text/plain": [
       "'P'"
      ]
     },
     "execution_count": 4,
     "metadata": {},
     "output_type": "execute_result"
    }
   ],
   "source": [
    "chr(80)"
   ]
  },
  {
   "cell_type": "code",
   "execution_count": 5,
   "metadata": {},
   "outputs": [
    {
     "name": "stdout",
     "output_type": "stream",
     "text": [
      "b'\\xf0\\x9f\\x92\\xa1 idea'\n"
     ]
    }
   ],
   "source": [
    "text = \"💡 idea\"\n",
    "\n",
    "# Encode to UTF-8 → returns a bytes object\n",
    "encoded = text.encode('utf-8')\n",
    "print(encoded)  \n"
   ]
  },
  {
   "cell_type": "markdown",
   "metadata": {},
   "source": [
    "# Unicode encoding is the process of converting text (characters or symbols) into a specific numerical format that can be understood by computers. It’s essentially a way of converting human-readable characters (like letters, numbers, and symbols) into machine-readable byte sequences."
   ]
  },
  {
   "cell_type": "markdown",
   "metadata": {},
   "source": [
    "# Unicode Encoding during Tokenization: Before tokenization, the characters in the text need to be encoded into numerical values (via their Unicode code points). For example, \"I\" is mapped to U+0049, \"l\" to U+006C, and so on.\n",
    "\n",
    "# Tokenization relies on Unicode encoding to ensure that each character is represented by a unique code point that can later be translated into model-specific tokens."
   ]
  },
  {
   "cell_type": "code",
   "execution_count": null,
   "metadata": {},
   "outputs": [],
   "source": [
    "# https://tiktokenizer.vercel.app/\n",
    "\n",
    "# https://bbycroft.net/llm"
   ]
  }
 ],
 "metadata": {
  "kernelspec": {
   "display_name": "Python 3",
   "language": "python",
   "name": "python3"
  },
  "language_info": {
   "codemirror_mode": {
    "name": "ipython",
    "version": 3
   },
   "file_extension": ".py",
   "mimetype": "text/x-python",
   "name": "python",
   "nbconvert_exporter": "python",
   "pygments_lexer": "ipython3",
   "version": "3.11.9"
  }
 },
 "nbformat": 4,
 "nbformat_minor": 2
}
