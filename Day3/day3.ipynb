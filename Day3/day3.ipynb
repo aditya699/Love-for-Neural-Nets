{
 "cells": [
  {
   "cell_type": "markdown",
   "metadata": {
    "vscode": {
     "languageId": "plaintext"
    }
   },
   "source": [
    "# DAY 3 What made transformers so successful? like on a serious note the world is different now.\n"
   ]
  },
  {
   "cell_type": "markdown",
   "metadata": {
    "vscode": {
     "languageId": "plaintext"
    }
   },
   "source": [
    "📌 Problem with Basic Seq2Seq Models (Without Attention)\n",
    "In a traditional Sequence-to-Sequence (Seq2Seq) model (like an RNN-based encoder-decoder), the encoder processes the input sequence and compresses it into a single fixed-size context vector (the last hidden state).\n",
    "\n",
    "🚨 What’s the issue?\n",
    "\n",
    "This fixed-size context vector acts as a bottleneck—it must store all the information from the input sequence, even if the sequence is very long.\n",
    "This leads to poor performance on long sentences, as the decoder struggles to retrieve earlier words.\n",
    "The model tends to forget earlier parts of the sentence when generating longer outputs."
   ]
  },
  {
   "cell_type": "markdown",
   "metadata": {
    "vscode": {
     "languageId": "plaintext"
    }
   },
   "source": [
    "# The basic RNN cell equation can be represented as follows:\n",
    "# h_t = tanh(W_hh * h_{t-1} + W_xh * x_t + b_h)\n",
    "# where:\n",
    "# - h_t is the hidden state at time t\n",
    "# - h_{t-1} is the hidden state at time t-1\n",
    "# - x_t is the input at time t\n",
    "# - W_hh is the weight matrix for the hidden state\n",
    "# - W_xh is the weight matrix for the input\n",
    "# - b_h is the bias term\n",
    "# \n"
   ]
  },
  {
   "cell_type": "markdown",
   "metadata": {
    "vscode": {
     "languageId": "plaintext"
    }
   },
   "source": [
    "#We are implementing a basic RNN cell in PyTorch. This will help us understand how an RNN processes a sequence over time.\n"
   ]
  },
  {
   "cell_type": "code",
   "execution_count": 1,
   "metadata": {},
   "outputs": [],
   "source": [
    "import torch\n",
    "import torch.nn as nn"
   ]
  },
  {
   "cell_type": "code",
   "execution_count": 2,
   "metadata": {},
   "outputs": [
    {
     "name": "stdout",
     "output_type": "stream",
     "text": [
      "Inputs:\n",
      " [[1 2]\n",
      " [2 3]\n",
      " [3 4]\n",
      " [4 5]\n",
      " [5 6]\n",
      " [6 7]\n",
      " [7 8]\n",
      " [8 9]]\n",
      "Targets:\n",
      " [ 3  4  5  6  7  8  9 10]\n"
     ]
    }
   ],
   "source": [
    "import numpy as np\n",
    "\n",
    "# Generate a simple sequence of numbers\n",
    "sequence = np.array([1, 2, 3, 4, 5, 6, 7, 8, 9, 10])\n",
    "\n",
    "# Prepare input-output pairs\n",
    "X = []\n",
    "y = []\n",
    "for i in range(len(sequence) - 2):  # We need at least 2 previous values\n",
    "    X.append([sequence[i], sequence[i+1]])  # Input is two previous numbers\n",
    "    y.append(sequence[i+2])  # Target is the next number\n",
    "\n",
    "# Convert to NumPy arrays\n",
    "X = np.array(X)\n",
    "y = np.array(y)\n",
    "\n",
    "# Print dataset\n",
    "print(\"Inputs:\\n\", X)\n",
    "print(\"Targets:\\n\", y)\n"
   ]
  },
  {
   "cell_type": "code",
   "execution_count": 3,
   "metadata": {},
   "outputs": [
    {
     "data": {
      "text/plain": [
       "array([[1, 2],\n",
       "       [2, 3],\n",
       "       [3, 4],\n",
       "       [4, 5],\n",
       "       [5, 6],\n",
       "       [6, 7],\n",
       "       [7, 8],\n",
       "       [8, 9]])"
      ]
     },
     "execution_count": 3,
     "metadata": {},
     "output_type": "execute_result"
    }
   ],
   "source": [
    "X"
   ]
  },
  {
   "cell_type": "code",
   "execution_count": 4,
   "metadata": {},
   "outputs": [
    {
     "data": {
      "text/plain": [
       "array([ 3,  4,  5,  6,  7,  8,  9, 10])"
      ]
     },
     "execution_count": 4,
     "metadata": {},
     "output_type": "execute_result"
    }
   ],
   "source": [
    "y"
   ]
  },
  {
   "cell_type": "code",
   "execution_count": 23,
   "metadata": {},
   "outputs": [
    {
     "name": "stdout",
     "output_type": "stream",
     "text": [
      "Inputs:\n",
      " [[1 2]\n",
      " [2 3]\n",
      " [3 4]\n",
      " [4 5]\n",
      " [5 6]\n",
      " [6 7]\n",
      " [7 8]\n",
      " [8 9]]\n",
      "Targets:\n",
      " [[ 3]\n",
      " [ 4]\n",
      " [ 5]\n",
      " [ 6]\n",
      " [ 7]\n",
      " [ 8]\n",
      " [ 9]\n",
      " [10]]\n"
     ]
    }
   ],
   "source": [
    "import numpy as np\n",
    "\n",
    "# Generate simple sequence data\n",
    "X = np.array([[1, 2], [2, 3], [3, 4], [4, 5], [5, 6], [6, 7], [7, 8], [8, 9]])\n",
    "y = np.array([[3], [4], [5], [6], [7], [8], [9], [10]])\n",
    "\n",
    "print(\"Inputs:\\n\", X)\n",
    "print(\"Targets:\\n\", y)\n"
   ]
  },
  {
   "cell_type": "code",
   "execution_count": 25,
   "metadata": {},
   "outputs": [
    {
     "name": "stdout",
     "output_type": "stream",
     "text": [
      "Shape of X: (8, 2)\n",
      "Shape of y: (8, 1)\n"
     ]
    }
   ],
   "source": [
    "print(\"Shape of X:\", X.shape)\n",
    "print(\"Shape of y:\", y.shape)\n",
    "\n"
   ]
  },
  {
   "cell_type": "code",
   "execution_count": 43,
   "metadata": {},
   "outputs": [
    {
     "name": "stdout",
     "output_type": "stream",
     "text": [
      "Input [1 2]\n",
      "Shape of Input (2,)\n",
      "Reshape Input (2, 1)\n",
      "Weight [[ 0.82254491 -1.22084365]]\n",
      "Bias [[0.2088636]]\n",
      "Z [[-1.41027879]]\n",
      "Z after activation [[-0.88755332]]\n"
     ]
    }
   ],
   "source": [
    "# Visualizing the forward pass\n",
    "print(\"Input\",X[0])\n",
    "print(\"Shape of Input\",X[0].shape)\n",
    "\n",
    "print(\"Reshape Input\",X[0].reshape(-1,1).shape)\n",
    "w1=np.random.randn(1,2)\n",
    "print(\"Weight\",w1)\n",
    "b1=np.random.randn(1,1)\n",
    "print(\"Bias\",b1)\n",
    "z=np.dot(w1,X[0].reshape(-1,1))+b1\n",
    "print(\"Z\",z)\n",
    "z=np.tanh(z)\n",
    "print(\"Z after activation\",z)\n"
   ]
  },
  {
   "cell_type": "code",
   "execution_count": 2,
   "metadata": {},
   "outputs": [],
   "source": [
    "#Important Resources-\n",
    "# https://aman.ai/primers/ai/top-30-papers/\n",
    "# https://karpathy.github.io/2019/04/25/recipe/"
   ]
  },
  {
   "cell_type": "code",
   "execution_count": null,
   "metadata": {},
   "outputs": [],
   "source": []
  },
  {
   "cell_type": "code",
   "execution_count": null,
   "metadata": {},
   "outputs": [],
   "source": []
  },
  {
   "cell_type": "code",
   "execution_count": null,
   "metadata": {},
   "outputs": [],
   "source": []
  },
  {
   "cell_type": "code",
   "execution_count": null,
   "metadata": {},
   "outputs": [],
   "source": []
  }
 ],
 "metadata": {
  "kernelspec": {
   "display_name": "Python 3",
   "language": "python",
   "name": "python3"
  },
  "language_info": {
   "codemirror_mode": {
    "name": "ipython",
    "version": 3
   },
   "file_extension": ".py",
   "mimetype": "text/x-python",
   "name": "python",
   "nbconvert_exporter": "python",
   "pygments_lexer": "ipython3",
   "version": "3.9.5"
  }
 },
 "nbformat": 4,
 "nbformat_minor": 2
}
